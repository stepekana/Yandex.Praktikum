{
 "cells": [
  {
   "cell_type": "markdown",
   "metadata": {},
   "source": [
    "# A/B-тестирование для интернет-магазина"
   ]
  },
  {
   "cell_type": "markdown",
   "metadata": {},
   "source": [
    "Интернет-магазин хочет выбрать наилучшую гипотезу для увеличения выручки, протестировать ее с помощью A/B-теста и принять или отложить решение об изменении."
   ]
  },
  {
   "cell_type": "markdown",
   "metadata": {},
   "source": [
    "## Содержание:\n",
    "\n",
    "1. [Приоритизация гипотез.](#1)\n",
    "2. [Анализ A/B-теста](#2)\n",
    "\n",
    "  2.1 [Предобработка данных](#2.1)\n",
    "\n",
    "  2.2 [Анализ кумулятивных значений выручки, среднего чека и конверсии по группам.](#2.2)\n",
    "\n",
    "  2.3 [Проверка гипотез о статистической значимости различий в конверсии и среднем чеке между группами А и В по сырым данным](#2.3)\n",
    "  \n",
    "  2.4 [Избавление от выбросов](#2.4)\n",
    "  \n",
    "  2.5 [Проверка гипотез о статистической значимости различий в конверсии и среднем чеке между группами А и В по очищенным данным](#2.5)\n",
    "  \n",
    "3. [Выводы](#2.6)\n"
   ]
  },
  {
   "cell_type": "code",
   "execution_count": 1,
   "metadata": {},
   "outputs": [],
   "source": [
    "import pandas as pd\n",
    "import matplotlib.pyplot as plt\n",
    "import numpy as np\n",
    "import math\n",
    "from scipy import stats as st\n",
    "import warnings\n",
    "warnings.filterwarnings('ignore')"
   ]
  },
  {
   "cell_type": "code",
   "execution_count": 2,
   "metadata": {},
   "outputs": [],
   "source": [
    "def checking(df):\n",
    "    print(df.head())\n",
    "    print()\n",
    "    print(df.info())\n",
    "    print()\n",
    "    print('duplicated:', df.duplicated().sum())\n",
    "    print()\n",
    "    print(df.hist(bins=20))"
   ]
  },
  {
   "cell_type": "markdown",
   "metadata": {},
   "source": [
    "## Приоритизация гипотез.<a name=\"1\"></a>"
   ]
  },
  {
   "cell_type": "markdown",
   "metadata": {},
   "source": [
    "    Hypothesis — краткое описание гипотезы;\n",
    "    Reach — охват пользователей по 10-балльной шкале;\n",
    "    Impact — влияние на пользователей по 10-балльной шкале;\n",
    "    Confidence — уверенность в гипотезе по 10-балльной шкале;\n",
    "    Efforts — затраты ресурсов на проверку гипотезы по 10-балльной шкале. Чем больше значение Efforts, тем дороже проверка гипотезы."
   ]
  },
  {
   "cell_type": "code",
   "execution_count": 3,
   "metadata": {},
   "outputs": [
    {
     "data": {
      "text/html": [
       "<div>\n",
       "<style scoped>\n",
       "    .dataframe tbody tr th:only-of-type {\n",
       "        vertical-align: middle;\n",
       "    }\n",
       "\n",
       "    .dataframe tbody tr th {\n",
       "        vertical-align: top;\n",
       "    }\n",
       "\n",
       "    .dataframe thead th {\n",
       "        text-align: right;\n",
       "    }\n",
       "</style>\n",
       "<table border=\"1\" class=\"dataframe\">\n",
       "  <thead>\n",
       "    <tr style=\"text-align: right;\">\n",
       "      <th></th>\n",
       "      <th>Hypothesis</th>\n",
       "      <th>Reach</th>\n",
       "      <th>Impact</th>\n",
       "      <th>Confidence</th>\n",
       "      <th>Efforts</th>\n",
       "    </tr>\n",
       "  </thead>\n",
       "  <tbody>\n",
       "    <tr>\n",
       "      <td>0</td>\n",
       "      <td>Добавить два новых канала привлечения трафика,...</td>\n",
       "      <td>3</td>\n",
       "      <td>10</td>\n",
       "      <td>8</td>\n",
       "      <td>6</td>\n",
       "    </tr>\n",
       "    <tr>\n",
       "      <td>1</td>\n",
       "      <td>Запустить собственную службу доставки, что сок...</td>\n",
       "      <td>2</td>\n",
       "      <td>5</td>\n",
       "      <td>4</td>\n",
       "      <td>10</td>\n",
       "    </tr>\n",
       "    <tr>\n",
       "      <td>2</td>\n",
       "      <td>Добавить блоки рекомендаций товаров на сайт ин...</td>\n",
       "      <td>8</td>\n",
       "      <td>3</td>\n",
       "      <td>7</td>\n",
       "      <td>3</td>\n",
       "    </tr>\n",
       "    <tr>\n",
       "      <td>3</td>\n",
       "      <td>Изменить структура категорий, что увеличит кон...</td>\n",
       "      <td>8</td>\n",
       "      <td>3</td>\n",
       "      <td>3</td>\n",
       "      <td>8</td>\n",
       "    </tr>\n",
       "    <tr>\n",
       "      <td>4</td>\n",
       "      <td>Изменить цвет фона главной страницы, чтобы уве...</td>\n",
       "      <td>3</td>\n",
       "      <td>1</td>\n",
       "      <td>1</td>\n",
       "      <td>1</td>\n",
       "    </tr>\n",
       "    <tr>\n",
       "      <td>5</td>\n",
       "      <td>Добавить страницу отзывов клиентов о магазине,...</td>\n",
       "      <td>3</td>\n",
       "      <td>2</td>\n",
       "      <td>2</td>\n",
       "      <td>3</td>\n",
       "    </tr>\n",
       "    <tr>\n",
       "      <td>6</td>\n",
       "      <td>Показать на главной странице баннеры с актуаль...</td>\n",
       "      <td>5</td>\n",
       "      <td>3</td>\n",
       "      <td>8</td>\n",
       "      <td>3</td>\n",
       "    </tr>\n",
       "    <tr>\n",
       "      <td>7</td>\n",
       "      <td>Добавить форму подписки на все основные страни...</td>\n",
       "      <td>10</td>\n",
       "      <td>7</td>\n",
       "      <td>8</td>\n",
       "      <td>5</td>\n",
       "    </tr>\n",
       "    <tr>\n",
       "      <td>8</td>\n",
       "      <td>Запустить акцию, дающую скидку на товар в день...</td>\n",
       "      <td>1</td>\n",
       "      <td>9</td>\n",
       "      <td>9</td>\n",
       "      <td>5</td>\n",
       "    </tr>\n",
       "  </tbody>\n",
       "</table>\n",
       "</div>"
      ],
      "text/plain": [
       "                                          Hypothesis  Reach  Impact  \\\n",
       "0  Добавить два новых канала привлечения трафика,...      3      10   \n",
       "1  Запустить собственную службу доставки, что сок...      2       5   \n",
       "2  Добавить блоки рекомендаций товаров на сайт ин...      8       3   \n",
       "3  Изменить структура категорий, что увеличит кон...      8       3   \n",
       "4  Изменить цвет фона главной страницы, чтобы уве...      3       1   \n",
       "5  Добавить страницу отзывов клиентов о магазине,...      3       2   \n",
       "6  Показать на главной странице баннеры с актуаль...      5       3   \n",
       "7  Добавить форму подписки на все основные страни...     10       7   \n",
       "8  Запустить акцию, дающую скидку на товар в день...      1       9   \n",
       "\n",
       "   Confidence  Efforts  \n",
       "0           8        6  \n",
       "1           4       10  \n",
       "2           7        3  \n",
       "3           3        8  \n",
       "4           1        1  \n",
       "5           2        3  \n",
       "6           8        3  \n",
       "7           8        5  \n",
       "8           9        5  "
      ]
     },
     "execution_count": 3,
     "metadata": {},
     "output_type": "execute_result"
    }
   ],
   "source": [
    "hypothesis = pd.read_csv('/datasets/hypothesis.csv')\n",
    "hypothesis"
   ]
  },
  {
   "cell_type": "markdown",
   "metadata": {},
   "source": [
    "Приоритизация методами ICE и RICE"
   ]
  },
  {
   "cell_type": "code",
   "execution_count": 4,
   "metadata": {},
   "outputs": [
    {
     "data": {
      "text/html": [
       "<div>\n",
       "<style scoped>\n",
       "    .dataframe tbody tr th:only-of-type {\n",
       "        vertical-align: middle;\n",
       "    }\n",
       "\n",
       "    .dataframe tbody tr th {\n",
       "        vertical-align: top;\n",
       "    }\n",
       "\n",
       "    .dataframe thead th {\n",
       "        text-align: right;\n",
       "    }\n",
       "</style>\n",
       "<table border=\"1\" class=\"dataframe\">\n",
       "  <thead>\n",
       "    <tr style=\"text-align: right;\">\n",
       "      <th></th>\n",
       "      <th>Hypothesis</th>\n",
       "      <th>Reach</th>\n",
       "      <th>Impact</th>\n",
       "      <th>Confidence</th>\n",
       "      <th>Efforts</th>\n",
       "      <th>Priority_ICE</th>\n",
       "      <th>Priority_ICE_rating</th>\n",
       "      <th>Priority_RICE</th>\n",
       "      <th>Priority_RICE_rating</th>\n",
       "    </tr>\n",
       "  </thead>\n",
       "  <tbody>\n",
       "    <tr>\n",
       "      <td>7</td>\n",
       "      <td>Добавить форму подписки на все основные страни...</td>\n",
       "      <td>10</td>\n",
       "      <td>7</td>\n",
       "      <td>8</td>\n",
       "      <td>5</td>\n",
       "      <td>11.2</td>\n",
       "      <td>3</td>\n",
       "      <td>112.0</td>\n",
       "      <td>1</td>\n",
       "    </tr>\n",
       "    <tr>\n",
       "      <td>2</td>\n",
       "      <td>Добавить блоки рекомендаций товаров на сайт ин...</td>\n",
       "      <td>8</td>\n",
       "      <td>3</td>\n",
       "      <td>7</td>\n",
       "      <td>3</td>\n",
       "      <td>7.0</td>\n",
       "      <td>5</td>\n",
       "      <td>56.0</td>\n",
       "      <td>2</td>\n",
       "    </tr>\n",
       "    <tr>\n",
       "      <td>0</td>\n",
       "      <td>Добавить два новых канала привлечения трафика,...</td>\n",
       "      <td>3</td>\n",
       "      <td>10</td>\n",
       "      <td>8</td>\n",
       "      <td>6</td>\n",
       "      <td>13.3</td>\n",
       "      <td>2</td>\n",
       "      <td>40.0</td>\n",
       "      <td>3</td>\n",
       "    </tr>\n",
       "    <tr>\n",
       "      <td>6</td>\n",
       "      <td>Показать на главной странице баннеры с актуаль...</td>\n",
       "      <td>5</td>\n",
       "      <td>3</td>\n",
       "      <td>8</td>\n",
       "      <td>3</td>\n",
       "      <td>8.0</td>\n",
       "      <td>4</td>\n",
       "      <td>40.0</td>\n",
       "      <td>4</td>\n",
       "    </tr>\n",
       "    <tr>\n",
       "      <td>8</td>\n",
       "      <td>Запустить акцию, дающую скидку на товар в день...</td>\n",
       "      <td>1</td>\n",
       "      <td>9</td>\n",
       "      <td>9</td>\n",
       "      <td>5</td>\n",
       "      <td>16.2</td>\n",
       "      <td>1</td>\n",
       "      <td>16.2</td>\n",
       "      <td>5</td>\n",
       "    </tr>\n",
       "    <tr>\n",
       "      <td>3</td>\n",
       "      <td>Изменить структура категорий, что увеличит кон...</td>\n",
       "      <td>8</td>\n",
       "      <td>3</td>\n",
       "      <td>3</td>\n",
       "      <td>8</td>\n",
       "      <td>1.1</td>\n",
       "      <td>8</td>\n",
       "      <td>9.0</td>\n",
       "      <td>6</td>\n",
       "    </tr>\n",
       "    <tr>\n",
       "      <td>1</td>\n",
       "      <td>Запустить собственную службу доставки, что сок...</td>\n",
       "      <td>2</td>\n",
       "      <td>5</td>\n",
       "      <td>4</td>\n",
       "      <td>10</td>\n",
       "      <td>2.0</td>\n",
       "      <td>6</td>\n",
       "      <td>4.0</td>\n",
       "      <td>7</td>\n",
       "    </tr>\n",
       "    <tr>\n",
       "      <td>5</td>\n",
       "      <td>Добавить страницу отзывов клиентов о магазине,...</td>\n",
       "      <td>3</td>\n",
       "      <td>2</td>\n",
       "      <td>2</td>\n",
       "      <td>3</td>\n",
       "      <td>1.3</td>\n",
       "      <td>7</td>\n",
       "      <td>4.0</td>\n",
       "      <td>8</td>\n",
       "    </tr>\n",
       "    <tr>\n",
       "      <td>4</td>\n",
       "      <td>Изменить цвет фона главной страницы, чтобы уве...</td>\n",
       "      <td>3</td>\n",
       "      <td>1</td>\n",
       "      <td>1</td>\n",
       "      <td>1</td>\n",
       "      <td>1.0</td>\n",
       "      <td>9</td>\n",
       "      <td>3.0</td>\n",
       "      <td>9</td>\n",
       "    </tr>\n",
       "  </tbody>\n",
       "</table>\n",
       "</div>"
      ],
      "text/plain": [
       "                                          Hypothesis  Reach  Impact  \\\n",
       "7  Добавить форму подписки на все основные страни...     10       7   \n",
       "2  Добавить блоки рекомендаций товаров на сайт ин...      8       3   \n",
       "0  Добавить два новых канала привлечения трафика,...      3      10   \n",
       "6  Показать на главной странице баннеры с актуаль...      5       3   \n",
       "8  Запустить акцию, дающую скидку на товар в день...      1       9   \n",
       "3  Изменить структура категорий, что увеличит кон...      8       3   \n",
       "1  Запустить собственную службу доставки, что сок...      2       5   \n",
       "5  Добавить страницу отзывов клиентов о магазине,...      3       2   \n",
       "4  Изменить цвет фона главной страницы, чтобы уве...      3       1   \n",
       "\n",
       "   Confidence  Efforts  Priority_ICE  Priority_ICE_rating  Priority_RICE  \\\n",
       "7           8        5          11.2                    3          112.0   \n",
       "2           7        3           7.0                    5           56.0   \n",
       "0           8        6          13.3                    2           40.0   \n",
       "6           8        3           8.0                    4           40.0   \n",
       "8           9        5          16.2                    1           16.2   \n",
       "3           3        8           1.1                    8            9.0   \n",
       "1           4       10           2.0                    6            4.0   \n",
       "5           2        3           1.3                    7            4.0   \n",
       "4           1        1           1.0                    9            3.0   \n",
       "\n",
       "   Priority_RICE_rating  \n",
       "7                     1  \n",
       "2                     2  \n",
       "0                     3  \n",
       "6                     4  \n",
       "8                     5  \n",
       "3                     6  \n",
       "1                     7  \n",
       "5                     8  \n",
       "4                     9  "
      ]
     },
     "execution_count": 4,
     "metadata": {},
     "output_type": "execute_result"
    }
   ],
   "source": [
    "hypothesis['Priority_ICE'] = (hypothesis['Impact']*hypothesis['Confidence']/hypothesis['Efforts']).round(1)\n",
    "hypothesis = hypothesis.sort_values(by='Priority_ICE', ascending=False)\n",
    "hypothesis['Priority_ICE_rating'] = np.arange(1, len(hypothesis)+1)\n",
    "\n",
    "hypothesis['Priority_RICE'] = hypothesis['Reach']*hypothesis['Impact']*hypothesis['Confidence']/hypothesis['Efforts']\n",
    "hypothesis = hypothesis.sort_values(by='Priority_RICE', ascending=False)\n",
    "hypothesis['Priority_RICE_rating'] = np.arange(1, len(hypothesis)+1)\n",
    "hypothesis"
   ]
  },
  {
   "cell_type": "markdown",
   "metadata": {},
   "source": [
    "**Вывод:** Приоритет гипотез меняется в зависимости от применяемого подхода. RICE учитывается не только предполагаемое влияние и усилия по реализации доработки, но и количество пользователей, которых изменение коснется. Интернет-магазин - массовый сервис, поэтому последним параметром пренебрегать не стоит, протестируем в первую очередь гипотезу о добавлении формы подписки на все страницы, она лидирует по методу RICE, но и в модели ICE занимает призовое 3 место."
   ]
  },
  {
   "cell_type": "markdown",
   "metadata": {},
   "source": [
    "## Анализ A/B-теста<a name=\"2\"></a>"
   ]
  },
  {
   "cell_type": "markdown",
   "metadata": {},
   "source": [
    "### Предобработка данных<a name=\"2.1\"></a>"
   ]
  },
  {
   "cell_type": "markdown",
   "metadata": {},
   "source": [
    "    Проведем общую проверку данных на корректность формата, наличие дубликатов и распределения.\n",
    "    И выполним специфическую проверку на нормальность распределения, объем групп и соблюдается ли условие, что 1 пользователь видит только 1 версию (т.е. входит в одну группу)."
   ]
  },
  {
   "cell_type": "code",
   "execution_count": 5,
   "metadata": {},
   "outputs": [
    {
     "name": "stdout",
     "output_type": "stream",
     "text": [
      "   transactionId   visitorId        date  revenue group\n",
      "0     3667963787  3312258926  2019-08-15     1650     B\n",
      "1     2804400009  3642806036  2019-08-15      730     B\n",
      "2     2961555356  4069496402  2019-08-15      400     A\n",
      "3     3797467345  1196621759  2019-08-15     9759     B\n",
      "4     2282983706  2322279887  2019-08-15     2308     B\n",
      "\n",
      "<class 'pandas.core.frame.DataFrame'>\n",
      "RangeIndex: 1197 entries, 0 to 1196\n",
      "Data columns (total 5 columns):\n",
      "transactionId    1197 non-null int64\n",
      "visitorId        1197 non-null int64\n",
      "date             1197 non-null object\n",
      "revenue          1197 non-null int64\n",
      "group            1197 non-null object\n",
      "dtypes: int64(3), object(2)\n",
      "memory usage: 46.9+ KB\n",
      "None\n",
      "\n",
      "duplicated: 0\n",
      "\n",
      "[[<matplotlib.axes._subplots.AxesSubplot object at 0x7f5d28153e90>\n",
      "  <matplotlib.axes._subplots.AxesSubplot object at 0x7f5d260d3890>]\n",
      " [<matplotlib.axes._subplots.AxesSubplot object at 0x7f5d26086f50>\n",
      "  <matplotlib.axes._subplots.AxesSubplot object at 0x7f5d26047790>]]\n"
     ]
    },
    {
     "data": {
      "image/png": "[encoded data removed]",
      "text/plain": [
       "<Figure size 432x288 with 4 Axes>"
      ]
     },
     "metadata": {
      "needs_background": "light"
     },
     "output_type": "display_data"
    }
   ],
   "source": [
    "orders = pd.read_csv('/datasets/orders.csv')\n",
    "checking(orders)"
   ]
  },
  {
   "cell_type": "code",
   "execution_count": 6,
   "metadata": {},
   "outputs": [
    {
     "name": "stdout",
     "output_type": "stream",
     "text": [
      "         date group  visitors\n",
      "0  2019-08-01     A       719\n",
      "1  2019-08-02     A       619\n",
      "2  2019-08-03     A       507\n",
      "3  2019-08-04     A       717\n",
      "4  2019-08-05     A       756\n",
      "\n",
      "<class 'pandas.core.frame.DataFrame'>\n",
      "RangeIndex: 62 entries, 0 to 61\n",
      "Data columns (total 3 columns):\n",
      "date        62 non-null object\n",
      "group       62 non-null object\n",
      "visitors    62 non-null int64\n",
      "dtypes: int64(1), object(2)\n",
      "memory usage: 1.6+ KB\n",
      "None\n",
      "\n",
      "duplicated: 0\n",
      "\n",
      "[[<matplotlib.axes._subplots.AxesSubplot object at 0x7f5d25810d50>]]\n"
     ]
    },
    {
     "data": {
      "image/png": "[encoded data removed]",
      "text/plain": [
       "<Figure size 432x288 with 1 Axes>"
      ]
     },
     "metadata": {
      "needs_background": "light"
     },
     "output_type": "display_data"
    }
   ],
   "source": [
    "visitors = pd.read_csv('/datasets/visitors.csv')\n",
    "checking(visitors)"
   ]
  },
  {
   "cell_type": "code",
   "execution_count": 7,
   "metadata": {},
   "outputs": [
    {
     "name": "stdout",
     "output_type": "stream",
     "text": [
      "Выручка в группе A не распределена нормально\n",
      "Выручка в группе B не распределена нормально\n"
     ]
    }
   ],
   "source": [
    "#Тест Шапиро-Уилка на нормальность распределения\n",
    "for group in ('A', 'B'):\n",
    "    if st.shapiro(orders.query('group==group')['revenue'])[1] < 0.05:\n",
    "        print('Выручка в группе {} не распределена нормально'.format(group))\n",
    "    else:\n",
    "        print('Выручка в группе {} распределена нормально'.format(group))"
   ]
  },
  {
   "cell_type": "code",
   "execution_count": 8,
   "metadata": {},
   "outputs": [
    {
     "name": "stdout",
     "output_type": "stream",
     "text": [
      "Пользователей, входящих в обе группы сразу: 58\n"
     ]
    }
   ],
   "source": [
    "users_group = orders[['visitorId', 'group']].drop_duplicates()\n",
    "users_ok = users_group.groupby('visitorId').count()[users_group.groupby('visitorId').count()['group'] == 1].index\n",
    "print('Пользователей, входящих в обе группы сразу:', orders.visitorId.nunique() - len(users_ok))"
   ]
  },
  {
   "cell_type": "markdown",
   "metadata": {},
   "source": [
    "Реализация нашего теста где-то дала сбой. Вероятно, была пропущена стадия А/А-теста, на которой в числе прочего проверяется безошибочность работы алгоритма, следящего, чтобы одному и тому пользователю на всем протяжении теста показывалась только 1 версия страницы. Данные о заказах этих посетителей не могут быть однозначно отнесены к той или другой версии страницы, поэтому далее будем работать только с корректно распределенными пользователями."
   ]
  },
  {
   "cell_type": "code",
   "execution_count": 9,
   "metadata": {},
   "outputs": [],
   "source": [
    "orders = orders.query('visitorId.isin(@users_ok)')"
   ]
  },
  {
   "cell_type": "code",
   "execution_count": 10,
   "metadata": {},
   "outputs": [
    {
     "data": {
      "text/plain": [
       "group\n",
       "A    445\n",
       "B    528\n",
       "Name: visitorId, dtype: int64"
      ]
     },
     "execution_count": 10,
     "metadata": {},
     "output_type": "execute_result"
    }
   ],
   "source": [
    "orders.groupby('group')['visitorId'].nunique()"
   ]
  },
  {
   "cell_type": "markdown",
   "metadata": {},
   "source": [
    "##### Выводы: \n",
    "Данные представлены в корректном формате. Некоторые пользователи попали одновременно в группы А и В, и, т.к. это нарушает методику проведения А/В-теста, мы их убрали из рассмотрения. Сами группы оказались сопоставимых размеров. С первого взгляда заметно, что у значений выручки есть выбросы, и само распределение не нормальное, поэтому для оценки различий между группами будем применять непараметрический тест Уилкоксона-Манна-Уитни."
   ]
  },
  {
   "cell_type": "markdown",
   "metadata": {},
   "source": [
    "### Анализ кумулятивных значений выручки, среднего чека и конверсии по группам.<a name=\"2.2\"></a>"
   ]
  },
  {
   "cell_type": "code",
   "execution_count": 11,
   "metadata": {},
   "outputs": [
    {
     "data": {
      "text/html": [
       "<div>\n",
       "<style scoped>\n",
       "    .dataframe tbody tr th:only-of-type {\n",
       "        vertical-align: middle;\n",
       "    }\n",
       "\n",
       "    .dataframe tbody tr th {\n",
       "        vertical-align: top;\n",
       "    }\n",
       "\n",
       "    .dataframe thead th {\n",
       "        text-align: right;\n",
       "    }\n",
       "</style>\n",
       "<table border=\"1\" class=\"dataframe\">\n",
       "  <thead>\n",
       "    <tr style=\"text-align: right;\">\n",
       "      <th></th>\n",
       "      <th>date</th>\n",
       "      <th>groupA</th>\n",
       "      <th>ordersA</th>\n",
       "      <th>buyers</th>\n",
       "      <th>revenueA</th>\n",
       "      <th>visitorsA</th>\n",
       "      <th>conversionA</th>\n",
       "      <th>groupB</th>\n",
       "      <th>ordersB</th>\n",
       "      <th>buyersB</th>\n",
       "      <th>revenueB</th>\n",
       "      <th>visitorsB</th>\n",
       "      <th>conversionB</th>\n",
       "    </tr>\n",
       "  </thead>\n",
       "  <tbody>\n",
       "    <tr>\n",
       "      <td>0</td>\n",
       "      <td>2019-08-01</td>\n",
       "      <td>A</td>\n",
       "      <td>23</td>\n",
       "      <td>19</td>\n",
       "      <td>142779</td>\n",
       "      <td>719</td>\n",
       "      <td>0.031989</td>\n",
       "      <td>B</td>\n",
       "      <td>17</td>\n",
       "      <td>17</td>\n",
       "      <td>59758</td>\n",
       "      <td>713</td>\n",
       "      <td>0.023843</td>\n",
       "    </tr>\n",
       "    <tr>\n",
       "      <td>1</td>\n",
       "      <td>2019-08-02</td>\n",
       "      <td>A</td>\n",
       "      <td>42</td>\n",
       "      <td>36</td>\n",
       "      <td>234381</td>\n",
       "      <td>1338</td>\n",
       "      <td>0.031390</td>\n",
       "      <td>B</td>\n",
       "      <td>40</td>\n",
       "      <td>39</td>\n",
       "      <td>221801</td>\n",
       "      <td>1294</td>\n",
       "      <td>0.030912</td>\n",
       "    </tr>\n",
       "    <tr>\n",
       "      <td>2</td>\n",
       "      <td>2019-08-03</td>\n",
       "      <td>A</td>\n",
       "      <td>66</td>\n",
       "      <td>60</td>\n",
       "      <td>346854</td>\n",
       "      <td>1845</td>\n",
       "      <td>0.035772</td>\n",
       "      <td>B</td>\n",
       "      <td>54</td>\n",
       "      <td>53</td>\n",
       "      <td>288850</td>\n",
       "      <td>1803</td>\n",
       "      <td>0.029950</td>\n",
       "    </tr>\n",
       "    <tr>\n",
       "      <td>3</td>\n",
       "      <td>2019-08-04</td>\n",
       "      <td>A</td>\n",
       "      <td>77</td>\n",
       "      <td>71</td>\n",
       "      <td>388030</td>\n",
       "      <td>2562</td>\n",
       "      <td>0.030055</td>\n",
       "      <td>B</td>\n",
       "      <td>68</td>\n",
       "      <td>66</td>\n",
       "      <td>385740</td>\n",
       "      <td>2573</td>\n",
       "      <td>0.026428</td>\n",
       "    </tr>\n",
       "    <tr>\n",
       "      <td>4</td>\n",
       "      <td>2019-08-05</td>\n",
       "      <td>A</td>\n",
       "      <td>99</td>\n",
       "      <td>92</td>\n",
       "      <td>474413</td>\n",
       "      <td>3318</td>\n",
       "      <td>0.029837</td>\n",
       "      <td>B</td>\n",
       "      <td>89</td>\n",
       "      <td>87</td>\n",
       "      <td>475648</td>\n",
       "      <td>3280</td>\n",
       "      <td>0.027134</td>\n",
       "    </tr>\n",
       "  </tbody>\n",
       "</table>\n",
       "</div>"
      ],
      "text/plain": [
       "         date groupA  ordersA  buyers  revenueA  visitorsA  conversionA  \\\n",
       "0  2019-08-01      A       23      19    142779        719     0.031989   \n",
       "1  2019-08-02      A       42      36    234381       1338     0.031390   \n",
       "2  2019-08-03      A       66      60    346854       1845     0.035772   \n",
       "3  2019-08-04      A       77      71    388030       2562     0.030055   \n",
       "4  2019-08-05      A       99      92    474413       3318     0.029837   \n",
       "\n",
       "  groupB  ordersB  buyersB  revenueB  visitorsB  conversionB  \n",
       "0      B       17       17     59758        713     0.023843  \n",
       "1      B       40       39    221801       1294     0.030912  \n",
       "2      B       54       53    288850       1803     0.029950  \n",
       "3      B       68       66    385740       2573     0.026428  \n",
       "4      B       89       87    475648       3280     0.027134  "
      ]
     },
     "execution_count": 11,
     "metadata": {},
     "output_type": "execute_result"
    }
   ],
   "source": [
    "datesGroups = orders[['date','group']].drop_duplicates()\n",
    "\n",
    "ordersAggregated = datesGroups.apply(lambda x: orders[(orders['date'] <= x['date'])&(orders['group'] == x['group'])]\n",
    "                                     .agg({'date' : 'max', \n",
    "                                           'group' : 'max', \n",
    "                                           'transactionId' : 'nunique', \n",
    "                                           'visitorId' : 'nunique', \n",
    "                                           'revenue' : 'sum'}), axis=1).sort_values(by=['date','group'])\n",
    "\n",
    "visitorsAggregated = datesGroups.apply(lambda x: visitors[(visitors['date'] <= x['date'])&(visitors['group'] == x['group'])]\n",
    "                                       .agg({'date' : 'max', \n",
    "                                             'group' : 'max', \n",
    "                                             'visitors' : 'sum'}), axis=1).sort_values(by=['date','group'])\n",
    "\n",
    "cumulativeData = ordersAggregated.merge(visitorsAggregated, left_on=['date', 'group'], right_on=['date', 'group'])\n",
    "\n",
    "#Для дальнейшего исследования потребуется конверсия, посчитаем ее уже сейчас.\n",
    "cumulativeData['conversion'] = cumulativeData['transactionId']/cumulativeData['visitors']\n",
    "\n",
    "#Для удобства дальнейшего исследования разнесем данные групп в отдельные столбцы\n",
    "cumulativeData = cumulativeData.query('group == \"A\"').merge(cumulativeData.query('group == \"B\"'), on=['date'], suffixes=('A', 'B'))\n",
    "cumulativeData = cumulativeData.rename(columns={'transactionIdA':'ordersA',\n",
    "                                                             'visitorIdA':'buyers',\n",
    "                                                              'transactionIdB':'ordersB',\n",
    "                                                             'visitorIdB':'buyersB',\n",
    "                                                             }, errors=\"raise\")\n",
    "cumulativeData.head()"
   ]
  },
  {
   "cell_type": "code",
   "execution_count": 12,
   "metadata": {},
   "outputs": [
    {
     "data": {
      "image/png": "[encoded data removed]",
      "text/plain": [
       "<Figure size 432x288 with 1 Axes>"
      ]
     },
     "metadata": {
      "needs_background": "light"
     },
     "output_type": "display_data"
    }
   ],
   "source": [
    "plt.plot(cumulativeData['date'], cumulativeData['revenueA'], label='A')\n",
    "plt.plot(cumulativeData['date'], cumulativeData['revenueB'], label='B')\n",
    "plt.title('Накопленная выручка')\n",
    "plt.legend() \n",
    "plt.xticks(np.arange(pd.to_datetime(cumulativeData['date']).min().day, \n",
    "                     pd.to_datetime(cumulativeData['date']).max().day,\n",
    "                    2), rotation=70)\n",
    "plt.show()"
   ]
  },
  {
   "cell_type": "markdown",
   "metadata": {},
   "source": [
    "Накопленная выручка группы В выглядит немного больше до момента, когда некий выброс (заказ на аномально большую сумму) сдвинул его вверх. Сложно сказать, как повел бы себя график без этого случайно попавшего сюда заказа."
   ]
  },
  {
   "cell_type": "markdown",
   "metadata": {},
   "source": [
    "**Посмотрим на графики. Кумулятивный средний чек по группам**"
   ]
  },
  {
   "cell_type": "code",
   "execution_count": 13,
   "metadata": {},
   "outputs": [
    {
     "data": {
      "image/png": "[encoded data removed]",
      "text/plain": [
       "<Figure size 432x288 with 1 Axes>"
      ]
     },
     "metadata": {
      "needs_background": "light"
     },
     "output_type": "display_data"
    }
   ],
   "source": [
    "plt.plot(cumulativeData['date'], cumulativeData['revenueA']/cumulativeData['ordersA'], label='A')\n",
    "plt.plot(cumulativeData['date'], cumulativeData['revenueB']/cumulativeData['ordersB'], label='B')\n",
    "plt.legend()\n",
    "plt.title('Средний чек накопленным итогом')\n",
    "plt.xticks(np.arange(pd.to_datetime(cumulativeData['date']).min().day, \n",
    "                     pd.to_datetime(cumulativeData['date']).max().day,\n",
    "                    2), rotation=70)\n",
    "plt.show()"
   ]
  },
  {
   "cell_type": "markdown",
   "metadata": {},
   "source": [
    "Поведение среднего чека до вмешательства аномалий очень неоднозначно."
   ]
  },
  {
   "cell_type": "markdown",
   "metadata": {},
   "source": [
    "**График относительного изменения кумулятивного среднего чека группы B к группе A**"
   ]
  },
  {
   "cell_type": "code",
   "execution_count": 14,
   "metadata": {},
   "outputs": [
    {
     "data": {
      "image/png": "[encoded data removed]",
      "text/plain": [
       "<Figure size 432x288 with 1 Axes>"
      ]
     },
     "metadata": {
      "needs_background": "light"
     },
     "output_type": "display_data"
    }
   ],
   "source": [
    "plt.plot(cumulativeData['date'], (cumulativeData['revenueB']/cumulativeData['ordersB'])/\n",
    "                                        (cumulativeData['revenueA']/cumulativeData['ordersA']) - 1)\n",
    "plt.axhline(y=0, color='black', linestyle='--') \n",
    "plt.title('Относительный прирост среднего чека группы В к группе А')\n",
    "plt.xticks(np.arange(pd.to_datetime(cumulativeData['date']).min().day, \n",
    "                     pd.to_datetime(cumulativeData['date']).max().day,\n",
    "                    2), rotation=70)\n",
    "plt.show()"
   ]
  },
  {
   "cell_type": "markdown",
   "metadata": {},
   "source": [
    "Ожидаемая картина и на графике относительных значений одной группы к другой - определенные выводы сделать невозможно."
   ]
  },
  {
   "cell_type": "markdown",
   "metadata": {},
   "source": [
    "**График кумулятивной конверсии по группам**"
   ]
  },
  {
   "cell_type": "code",
   "execution_count": 15,
   "metadata": {},
   "outputs": [
    {
     "data": {
      "image/png": "[encoded data removed]",
      "text/plain": [
       "<Figure size 432x288 with 1 Axes>"
      ]
     },
     "metadata": {
      "needs_background": "light"
     },
     "output_type": "display_data"
    }
   ],
   "source": [
    "plt.plot(cumulativeData['date'], cumulativeData['conversionA'], label='A')\n",
    "plt.plot(cumulativeData['date'], cumulativeData['conversionB'], label='B')\n",
    "plt.legend()\n",
    "plt.axis([\"2019-08-01\", '2019-08-31', 0.02, 0.04]) \n",
    "plt.title('Конверсия накопленным итогом')\n",
    "plt.xticks(np.arange(pd.to_datetime(cumulativeData['date']).min().day, \n",
    "                     pd.to_datetime(cumulativeData['date']).max().day,\n",
    "                    2), rotation=70)\n",
    "plt.show()"
   ]
  },
  {
   "cell_type": "markdown",
   "metadata": {},
   "source": [
    "Что касается конверсии, группа В выглядит стабильно лучше А. Эту разницу в конверсии интересно будет проверить статистическими методами."
   ]
  },
  {
   "cell_type": "markdown",
   "metadata": {},
   "source": [
    "**График относительного изменения кумулятивной конверсии группы B к группе A**"
   ]
  },
  {
   "cell_type": "code",
   "execution_count": 16,
   "metadata": {},
   "outputs": [
    {
     "data": {
      "image/png": "[encoded data removed]",
      "text/plain": [
       "<Figure size 432x288 with 1 Axes>"
      ]
     },
     "metadata": {
      "needs_background": "light"
     },
     "output_type": "display_data"
    }
   ],
   "source": [
    "plt.plot(cumulativeData['date'], cumulativeData['conversionB']/cumulativeData['conversionA']-1, label=\"Относительный прирост конверсии группы B относительно группы A\")\n",
    "plt.legend()\n",
    "\n",
    "plt.axhline(y=0, color='black', linestyle='--')\n",
    "plt.title('Относительный прирост конверсии группы В к группе А')\n",
    "plt.xticks(np.arange(pd.to_datetime(cumulativeData['date']).min().day, \n",
    "                     pd.to_datetime(cumulativeData['date']).max().day,\n",
    "                    2), rotation=70)\n",
    "plt.show()"
   ]
  },
  {
   "cell_type": "markdown",
   "metadata": {},
   "source": [
    "Начальные колебания графика ни о чем не говорят, а со временем конверсия группы B стала держаться уверенно выше конверсии группы А."
   ]
  },
  {
   "cell_type": "markdown",
   "metadata": {},
   "source": [
    "## Проверка гипотез о статистической значимости различий в конверсии и среднем чеке между группами А и В по сырым данным.<a name=\"2.3\"></a>"
   ]
  },
  {
   "cell_type": "markdown",
   "metadata": {},
   "source": [
    "**Посчитаем статистическую значимость различий в конверсии и среднем чеке между группами по «сырым» данным.**"
   ]
  },
  {
   "cell_type": "markdown",
   "metadata": {},
   "source": [
    "Подготовим выборки для теста Уилкоксона-Манна-Уитни. Для этого создадим списки количества покупок для каждого посетителя, включая тех, кто ничего не купил, для них значением будет 0."
   ]
  },
  {
   "cell_type": "code",
   "execution_count": 17,
   "metadata": {},
   "outputs": [],
   "source": [
    "ordersByUsers = orders.groupby(['visitorId', 'group'], as_index=False).agg({'transactionId' : 'nunique', 'revenue':'sum'})\n",
    "ordersByUsers.columns = ['visitorId', 'group', 'transactions', 'revenue']"
   ]
  },
  {
   "cell_type": "code",
   "execution_count": 18,
   "metadata": {},
   "outputs": [],
   "source": [
    "sampleA = pd.concat([ordersByUsers.query('group == \"A\"')['transactions'], \n",
    "           pd.Series(0, index = np.arange(visitors.query('group == \"A\"')['visitors'].sum() - \n",
    "                                          len(ordersByUsers.query('group == \"A\"'))))])\n",
    "sampleB = pd.concat([ordersByUsers.query('group == \"B\"')['transactions'], \n",
    "           pd.Series(0, index = np.arange(visitors.query('group == \"B\"')['visitors'].sum() - \n",
    "                                          len(ordersByUsers.query('group == \"B\"'))))])"
   ]
  },
  {
   "cell_type": "markdown",
   "metadata": {},
   "source": [
    "**Гипотеза**\n",
    "\n",
    "Н0 - Конверсия в группах А и В одинаковая.\n",
    "\n",
    "Н1 - Конверсии группы А и В различаются."
   ]
  },
  {
   "cell_type": "code",
   "execution_count": 19,
   "metadata": {},
   "outputs": [
    {
     "name": "stdout",
     "output_type": "stream",
     "text": [
      "Конверсия группы А: 0.025\n",
      "Кoнверсия группы В: 0.029\n"
     ]
    }
   ],
   "source": [
    "print('Конверсия группы А: ', sampleA.mean().round(4), '\\n', 'Кoнверсия группы В: ', sampleB.mean().round(4), sep='')"
   ]
  },
  {
   "cell_type": "code",
   "execution_count": 20,
   "metadata": {},
   "outputs": [
    {
     "name": "stdout",
     "output_type": "stream",
     "text": [
      "p-value = 0.0055090420550073455\n"
     ]
    }
   ],
   "source": [
    "print('p-value =', st.mannwhitneyu(sampleA, sampleB)[1])"
   ]
  },
  {
   "cell_type": "code",
   "execution_count": 21,
   "metadata": {},
   "outputs": [
    {
     "name": "stdout",
     "output_type": "stream",
     "text": [
      "Прирост конверсии в группе В к А: 15.98%\n"
     ]
    }
   ],
   "source": [
    "print('Прирост конверсии в группе В к А: {:.2%}'.format(sampleB.mean() / sampleA.mean() - 1))"
   ]
  },
  {
   "cell_type": "markdown",
   "metadata": {},
   "source": [
    "p-value достаточно мало, чтобы отвергнуть нулевую гипотезу и признать, что различие между группами в конверсии есть. B показывает себя успешнее А почти на 16%."
   ]
  },
  {
   "cell_type": "markdown",
   "metadata": {},
   "source": [
    "**Гипотеза**\n",
    "\n",
    "Н0 - Средний чек в группах А и В одинаковый.\n",
    "\n",
    "Н1 - Средний чек в группах А и В различается."
   ]
  },
  {
   "cell_type": "code",
   "execution_count": 22,
   "metadata": {},
   "outputs": [
    {
     "name": "stdout",
     "output_type": "stream",
     "text": [
      "Средний чек группы А: 7189.4359\n",
      "Средний чек группы В: 9249.9489\n"
     ]
    }
   ],
   "source": [
    "print('Средний чек группы А: ', orders.query('group == \"A\"')['revenue'].mean().round(4), '\\n',\n",
    "      'Средний чек группы В: ', orders.query('group == \"B\"')['revenue'].mean().round(4), sep='')"
   ]
  },
  {
   "cell_type": "code",
   "execution_count": 23,
   "metadata": {},
   "outputs": [
    {
     "name": "stdout",
     "output_type": "stream",
     "text": [
      "p-value = 0.41474544990747664\n"
     ]
    }
   ],
   "source": [
    "print('p-value =', st.mannwhitneyu(orders.query('group == \"A\"')['revenue'], orders.query('group == \"B\"')['revenue'])[1])"
   ]
  },
  {
   "cell_type": "markdown",
   "metadata": {},
   "source": [
    "Несмотря на кажущуюся разницу, статистически значимых различий в среднем чеке между группами нет."
   ]
  },
  {
   "cell_type": "markdown",
   "metadata": {},
   "source": [
    "## Избавление от выбросов<a name=\"2.4\"></a>"
   ]
  },
  {
   "cell_type": "markdown",
   "metadata": {},
   "source": [
    "Графики в проведенном исследовании указывают на наличие аномальных значений, искажающих итоговые результаты тестирования. К таким значениям относятся редкие покупки на нетипично большие суммы и нетипично большое количество заказов от одного покупателя. Найдем эти выбросы и проверим значимость различий в конверсии и среднем чеке без них."
   ]
  },
  {
   "cell_type": "markdown",
   "metadata": {},
   "source": [
    "**Построим точечный график количества заказов по пользователям и оценим значения 95-го и 99-го перцентиля, чтобы определить границу выбросов по этому параметру**"
   ]
  },
  {
   "cell_type": "code",
   "execution_count": 24,
   "metadata": {},
   "outputs": [
    {
     "name": "stdout",
     "output_type": "stream",
     "text": [
      "Перцентили 95 и 99: [1. 2.]\n"
     ]
    },
    {
     "data": {
      "image/png": "[encoded data removed]",
      "text/plain": [
       "<Figure size 432x288 with 1 Axes>"
      ]
     },
     "metadata": {
      "needs_background": "light"
     },
     "output_type": "display_data"
    }
   ],
   "source": [
    "print('Перцентили 95 и 99:', np.percentile(ordersByUsers['transactions'], [95, 99]))\n",
    "x_values = pd.Series(range(0,len(ordersByUsers)))\n",
    "plt.scatter(x_values, ordersByUsers['transactions']) \n",
    "plt.title('Распределение количества заказов по пользователям')\n",
    "plt.show()"
   ]
  },
  {
   "cell_type": "markdown",
   "metadata": {},
   "source": [
    "Почти все пользователи совершили 1 заказ, не более 5% - 2 и 3."
   ]
  },
  {
   "cell_type": "markdown",
   "metadata": {},
   "source": [
    "**Оценим тем же способом точечный график стоимостей заказов**"
   ]
  },
  {
   "cell_type": "code",
   "execution_count": 25,
   "metadata": {},
   "outputs": [
    {
     "name": "stdout",
     "output_type": "stream",
     "text": [
      "Перцентили 95 и 99 [28910. 59082.]\n"
     ]
    },
    {
     "data": {
      "image/png": "[encoded data removed]",
      "text/plain": [
       "<Figure size 432x288 with 1 Axes>"
      ]
     },
     "metadata": {
      "needs_background": "light"
     },
     "output_type": "display_data"
    }
   ],
   "source": [
    "print('Перцентили 95 и 99', np.percentile(ordersByUsers['revenue'], [95, 99]))\n",
    "plt.scatter(np.arange(0, len(ordersByUsers)), ordersByUsers['revenue'])\n",
    "plt.axhline(y=np.percentile(ordersByUsers['revenue'], 95), color='r')\n",
    "plt.title('Распределение выручки по пользователя')\n",
    "plt.show()"
   ]
  },
  {
   "cell_type": "markdown",
   "metadata": {},
   "source": [
    "Вот и милионный заказ, обеспечивавший \"победу\" группы B. Он такой один на всю выборку, и мог попасть в любую группу. Для того, чтобы оценить группы более надежно, его и несколько других нетипично дорогих заказов стоит исключить."
   ]
  },
  {
   "cell_type": "markdown",
   "metadata": {},
   "source": [
    "Пользователей, совершивших более 1 заказа или заказов на 29+ тыс. уберем из рассмотрения, чтобы оценить, как ведет себя конверсия и средний чек у массового покупателя. По каждому критерию теряем не более 5% всех пользователей."
   ]
  },
  {
   "cell_type": "code",
   "execution_count": 26,
   "metadata": {},
   "outputs": [],
   "source": [
    "users_with_many_orders = orders.groupby('visitorId')['transactionId'].nunique()\\\n",
    "                        [orders.groupby('visitorId')['transactionId'].nunique() > 1].index\n",
    "\n",
    "users_with_much_revenue = orders.groupby('visitorId')['revenue'].sum()\\\n",
    "                          [orders.groupby('visitorId')['revenue'].sum() > 29000].index\n",
    "\n",
    "abnormal_users = pd.concat([pd.Series(users_with_many_orders), pd.Series(users_with_much_revenue)]).drop_duplicates()"
   ]
  },
  {
   "cell_type": "markdown",
   "metadata": {},
   "source": [
    "## Проверка гипотез о статистической значимости различий в конверсии и среднем чеке между группами А и В по очищенным данным.<a name=\"2.5\"></a>"
   ]
  },
  {
   "cell_type": "markdown",
   "metadata": {},
   "source": [
    "**Посчитаем статистическую значимость различий в конверсии и среднем чеке между группами по «очищенным» данным.**"
   ]
  },
  {
   "cell_type": "code",
   "execution_count": 27,
   "metadata": {},
   "outputs": [],
   "source": [
    "sampleAfiltered = pd.concat([ordersByUsers.query('group == \"A\" and visitorId not in @abnormal_users')['transactions'], \n",
    "           pd.Series(0, index = np.arange(visitors.query('group == \"A\"')['visitors'].sum() - \n",
    "                                          len(ordersByUsers.query('group == \"A\"'))))])\n",
    "\n",
    "sampleBfiltered = pd.concat([ordersByUsers.query('group == \"B\" and visitorId not in @abnormal_users')['transactions'], \n",
    "           pd.Series(0, index = np.arange(visitors.query('group == \"B\"')['visitors'].sum() - \n",
    "                                          len(ordersByUsers.query('group == \"B\"'))))])"
   ]
  },
  {
   "cell_type": "markdown",
   "metadata": {},
   "source": [
    "**Гипотеза**\n",
    "\n",
    "Н0 - Конверсия в очищенных группах А и В одинаковая.\n",
    "\n",
    "Н1 - Конверсии в очищенных группах А и В различаются."
   ]
  },
  {
   "cell_type": "code",
   "execution_count": 28,
   "metadata": {},
   "outputs": [
    {
     "name": "stdout",
     "output_type": "stream",
     "text": [
      "Конверсия группы А: 0.0218\n",
      "Кoнверсия группы В: 0.0257\n"
     ]
    }
   ],
   "source": [
    "print('Конверсия группы А: ', sampleAfiltered.mean().round(4), '\\n', 'Кoнверсия группы В: ', sampleBfiltered.mean().round(4), sep='')"
   ]
  },
  {
   "cell_type": "code",
   "execution_count": 29,
   "metadata": {},
   "outputs": [
    {
     "name": "stdout",
     "output_type": "stream",
     "text": [
      "p-value = 0.006220991480621281\n"
     ]
    }
   ],
   "source": [
    "print('p-value =', st.mannwhitneyu(sampleAfiltered, sampleBfiltered)[1])"
   ]
  },
  {
   "cell_type": "code",
   "execution_count": 30,
   "metadata": {},
   "outputs": [
    {
     "name": "stdout",
     "output_type": "stream",
     "text": [
      "Прирост конверсии в группе В к А: 18.01%\n"
     ]
    }
   ],
   "source": [
    "print('Прирост конверсии в группе В к А: {:.2%}'.format(sampleBfiltered.mean() / sampleAfiltered.mean() - 1))"
   ]
  },
  {
   "cell_type": "markdown",
   "metadata": {},
   "source": [
    "Конверсия обеих групп стала немного ниже, но относительное различие только увеличилось: теперь группа В опережает А на 18%."
   ]
  },
  {
   "cell_type": "markdown",
   "metadata": {},
   "source": [
    "**Гипотеза**\n",
    "\n",
    "Н0 - Средний чек в очищенных группах А и В одинаковый.\n",
    "\n",
    "Н1 - Средний чек в очищенных группах А и В различается."
   ]
  },
  {
   "cell_type": "code",
   "execution_count": 31,
   "metadata": {},
   "outputs": [
    {
     "name": "stdout",
     "output_type": "stream",
     "text": [
      "Средний чек группы А: 5160.3554\n",
      "Средний чек группы В: 5114.5103\n"
     ]
    }
   ],
   "source": [
    "print('Средний чек группы А: ', orders.query('group == \"A\" and visitorId not in @abnormal_users')['revenue'].mean().round(4), '\\n',\n",
    "      'Средний чек группы В: ', orders.query('group == \"B\" and visitorId not in @abnormal_users')['revenue'].mean().round(4), sep='')"
   ]
  },
  {
   "cell_type": "code",
   "execution_count": 32,
   "metadata": {},
   "outputs": [
    {
     "name": "stdout",
     "output_type": "stream",
     "text": [
      "p-value = 0.4181613749626989\n"
     ]
    }
   ],
   "source": [
    "print('p-value =', st.mannwhitneyu(orders.query('group == \"A\" and visitorId not in @abnormal_users')['revenue'], \n",
    "                                   orders.query('group == \"B\" and visitorId not in @abnormal_users')['revenue'])[1])"
   ]
  },
  {
   "cell_type": "code",
   "execution_count": 33,
   "metadata": {},
   "outputs": [
    {
     "name": "stdout",
     "output_type": "stream",
     "text": [
      "Прирост среднего чека в группе В к А: -0.89%\n"
     ]
    }
   ],
   "source": [
    "print('Прирост среднего чека в группе В к А: {:.2%}'.format(orders.query('group == \"B\" and visitorId not in @abnormal_users')['revenue'].mean()\n",
    "                                                            / orders.query('group == \"A\" and visitorId not in @abnormal_users')['revenue'].mean() - 1))"
   ]
  },
  {
   "cell_type": "markdown",
   "metadata": {},
   "source": [
    "Аномальные суммы покупок вносили большой перекос в данные. После их удаления средние чеки в группах стали практически равны."
   ]
  },
  {
   "cell_type": "markdown",
   "metadata": {},
   "source": [
    "## Выводы"
   ]
  },
  {
   "cell_type": "markdown",
   "metadata": {},
   "source": [
    "Для увеличения выручки интернет-магазина было предложено 9 гипотез. Используя методы приоритизации ICE и RICE мы выбрали наиболее персипективную: добавить форму подписки на все основные страницы.\n",
    "\n",
    "Тестирование проводилось в течение августа 2019 г. Пользователи сайта были разделены на 2 почти одинаковые по объему группы, контрольной (группе А) показывался старый дизайн, экспериментальный (группе В) - обновленный дизайн с добавленными формами. В ходе реализации теста были допущены ошибки, в результате которых некоторые покупатели видели и одну, и другую версию сайта, их мы убрали из рассмотрения, чтобы, несмотря на допущенные нарушение методологии, получить максимально верные выводы. Для дальнейшего развития направления А/В-тестирования в компании рекомендуется доработать процесс и предварительно проводить А/А-тест, который покажет слабые места системы. \n",
    "\n",
    "Для текущего эксперимента наиболее важными параметрами были выбраны конверсия и средний чек.\n",
    "\n",
    "Статистический критерий Уилкоксона-Манна-Уитни показал, что конверсия в группе В выше по сравнению с группой А на 16% на \"сырых\" данных и на 18% на очищенных данных (из которых удалены параметры аномально больших заказов - более 29 тыс.р. и большое колечество заказов, принадлежащих одному пользователю - более 3).\n",
    "\n",
    "Тот же критерий показал, что различия в среднем чеке нет ни до удаления выбросов, ни после. Более того, средний чек по группам практически сравнялся после удаления аномально больших заказов.\n",
    "\n",
    "Задачей тестирования ставился поиск возможности для увеличения выручки. Значимый прирост конверсии в экспериментальной группе при сохранении среднего чека на том же уровне, что и в контрольной, позволяет признать группу В победителем, тест остановить, а добавленные формы подписки на всех страницах показывать всем пользователям. "
   ]
  }
 ],
 "metadata": {
  "kernelspec": {
   "display_name": "Python 3",
   "language": "python",
   "name": "python3"
  },
  "language_info": {
   "codemirror_mode": {
    "name": "ipython",
    "version": 3
   },
   "file_extension": ".py",
   "mimetype": "text/x-python",
   "name": "python",
   "nbconvert_exporter": "python",
   "pygments_lexer": "ipython3",
   "version": "3.7.8"
  },
  "toc": {
   "base_numbering": 1,
   "nav_menu": {},
   "number_sections": false,
   "sideBar": true,
   "skip_h1_title": false,
   "title_cell": "Table of Contents",
   "title_sidebar": "Contents",
   "toc_cell": false,
   "toc_position": {},
   "toc_section_display": true,
   "toc_window_display": true
  }
 },
 "nbformat": 4,
 "nbformat_minor": 2
}
